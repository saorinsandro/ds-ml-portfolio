{
 "cells": [
  {
   "cell_type": "markdown",
   "metadata": {},
   "source": [
    "# Project - Real or Not? NLP with Disaster Tweets"
   ]
  },
  {
   "cell_type": "markdown",
   "metadata": {},
   "source": [
    "## Author: Sandro Saorin da Silva"
   ]
  },
  {
   "cell_type": "markdown",
   "metadata": {},
   "source": [
    "## Description:\n",
    "\n",
    "Twitter has become an important communication channel in times of emergency. The ubiquitousness of smartphones enables people to announce an emergency they’re observing in real-time. Because of this, more agencies are interested in programatically monitoring Twitter (i.e. disaster relief organizations and news agencies). In this project, I built a machine learning model that predicts which Tweets are about real disasters and which one’s aren’t. If you want to have access to a dataset or a Kaggle Competition about this project: [click here](https://www.kaggle.com/c/nlp-getting-started/overview)."
   ]
  },
  {
   "cell_type": "markdown",
   "metadata": {},
   "source": [
    "##  "
   ]
  },
  {
   "cell_type": "markdown",
   "metadata": {},
   "source": [
    "## Text Preprocessing and Data Exploration\n",
    "\n",
    "In this section, we will prepare the Disasters Tweets data with a text preprocessing pipeline and using plot PCA and t-SNE plot try to identify some word-clusters with words of disaster and no-disaster tweets."
   ]
  },
  {
   "cell_type": "code",
   "execution_count": 1,
   "metadata": {},
   "outputs": [
    {
     "name": "stderr",
     "output_type": "stream",
     "text": [
      "[nltk_data] Downloading package punkt to\n",
      "[nltk_data]     /Users/sandro.silva/nltk_data...\n",
      "[nltk_data]   Package punkt is already up-to-date!\n",
      "[nltk_data] Downloading package stopwords to\n",
      "[nltk_data]     /Users/sandro.silva/nltk_data...\n",
      "[nltk_data]   Package stopwords is already up-to-date!\n",
      "[nltk_data] Downloading package rslp to\n",
      "[nltk_data]     /Users/sandro.silva/nltk_data...\n",
      "[nltk_data]   Package rslp is already up-to-date!\n"
     ]
    }
   ],
   "source": [
    "# Common's Libraries\n",
    "\n",
    "import pandas as pd\n",
    "import numpy as np\n",
    "import matplotlib.pyplot as plt\n",
    "import seaborn as sns\n",
    "import itertools\n",
    "import warnings\n",
    "warnings.filterwarnings('ignore') \n",
    "\n",
    "# Text Preprocessing Libraries\n",
    "\n",
    "import nltk\n",
    "nltk.download('punkt')\n",
    "nltk.download('stopwords')\n",
    "nltk.download('rslp')\n",
    "from nltk.corpus import stopwords \n",
    "from nltk.tokenize import word_tokenize\n",
    "from nltk.stem.porter import *\n",
    "from nltk.stem import SnowballStemmer\n",
    "import re\n",
    "\n",
    "# Metrics and NLP Vectorizer\n",
    "\n",
    "import gensim\n",
    "from gensim.utils import simple_preprocess\n",
    "from sklearn.feature_extraction.text import TfidfVectorizer\n",
    "\n",
    "# Machine Learning Libraries\n",
    "\n",
    "from sklearn.model_selection import train_test_split\n",
    "from sklearn.metrics import confusion_matrix, classification_report\n",
    "from sklearn.decomposition import PCA\n",
    "from sklearn.manifold import TSNE\n",
    "import xgboost as xgb\n",
    "from sklearn import metrics\n",
    "from sklearn.ensemble import RandomForestClassifier\n",
    "from sklearn.metrics import accuracy_score, precision_score, recall_score, roc_auc_score, roc_curve, f1_score\n",
    "from sklearn.naive_bayes import GaussianNB\n",
    "from sklearn.tree import DecisionTreeClassifier\n",
    "from sklearn.linear_model import LogisticRegression"
   ]
  },
  {
   "cell_type": "code",
   "execution_count": 2,
   "metadata": {},
   "outputs": [],
   "source": [
    "# Create a random_seed to use in every random_state\n",
    "\n",
    "random_seed = 42"
   ]
  },
  {
   "cell_type": "code",
   "execution_count": 3,
   "metadata": {},
   "outputs": [],
   "source": [
    "# Upload the Dataframe with tweets\n",
    "\n",
    "df_train = pd.read_csv('train.csv')"
   ]
  },
  {
   "cell_type": "code",
   "execution_count": 4,
   "metadata": {
    "scrolled": true
   },
   "outputs": [
    {
     "data": {
      "text/html": [
       "<div>\n",
       "<style scoped>\n",
       "    .dataframe tbody tr th:only-of-type {\n",
       "        vertical-align: middle;\n",
       "    }\n",
       "\n",
       "    .dataframe tbody tr th {\n",
       "        vertical-align: top;\n",
       "    }\n",
       "\n",
       "    .dataframe thead th {\n",
       "        text-align: right;\n",
       "    }\n",
       "</style>\n",
       "<table border=\"1\" class=\"dataframe\">\n",
       "  <thead>\n",
       "    <tr style=\"text-align: right;\">\n",
       "      <th></th>\n",
       "      <th>id</th>\n",
       "      <th>keyword</th>\n",
       "      <th>location</th>\n",
       "      <th>text</th>\n",
       "      <th>target</th>\n",
       "    </tr>\n",
       "  </thead>\n",
       "  <tbody>\n",
       "    <tr>\n",
       "      <td>0</td>\n",
       "      <td>1</td>\n",
       "      <td>NaN</td>\n",
       "      <td>NaN</td>\n",
       "      <td>Our Deeds are the Reason of this #earthquake M...</td>\n",
       "      <td>1</td>\n",
       "    </tr>\n",
       "    <tr>\n",
       "      <td>1</td>\n",
       "      <td>4</td>\n",
       "      <td>NaN</td>\n",
       "      <td>NaN</td>\n",
       "      <td>Forest fire near La Ronge Sask. Canada</td>\n",
       "      <td>1</td>\n",
       "    </tr>\n",
       "    <tr>\n",
       "      <td>2</td>\n",
       "      <td>5</td>\n",
       "      <td>NaN</td>\n",
       "      <td>NaN</td>\n",
       "      <td>All residents asked to 'shelter in place' are ...</td>\n",
       "      <td>1</td>\n",
       "    </tr>\n",
       "    <tr>\n",
       "      <td>3</td>\n",
       "      <td>6</td>\n",
       "      <td>NaN</td>\n",
       "      <td>NaN</td>\n",
       "      <td>13,000 people receive #wildfires evacuation or...</td>\n",
       "      <td>1</td>\n",
       "    </tr>\n",
       "    <tr>\n",
       "      <td>4</td>\n",
       "      <td>7</td>\n",
       "      <td>NaN</td>\n",
       "      <td>NaN</td>\n",
       "      <td>Just got sent this photo from Ruby #Alaska as ...</td>\n",
       "      <td>1</td>\n",
       "    </tr>\n",
       "  </tbody>\n",
       "</table>\n",
       "</div>"
      ],
      "text/plain": [
       "   id keyword location                                               text  \\\n",
       "0   1     NaN      NaN  Our Deeds are the Reason of this #earthquake M...   \n",
       "1   4     NaN      NaN             Forest fire near La Ronge Sask. Canada   \n",
       "2   5     NaN      NaN  All residents asked to 'shelter in place' are ...   \n",
       "3   6     NaN      NaN  13,000 people receive #wildfires evacuation or...   \n",
       "4   7     NaN      NaN  Just got sent this photo from Ruby #Alaska as ...   \n",
       "\n",
       "   target  \n",
       "0       1  \n",
       "1       1  \n",
       "2       1  \n",
       "3       1  \n",
       "4       1  "
      ]
     },
     "execution_count": 4,
     "metadata": {},
     "output_type": "execute_result"
    }
   ],
   "source": [
    "# Overview from first rows of the Dataframe\n",
    "\n",
    "df_train.head()"
   ]
  },
  {
   "cell_type": "code",
   "execution_count": 5,
   "metadata": {},
   "outputs": [
    {
     "data": {
      "text/plain": [
       "0    4342\n",
       "1    3271\n",
       "Name: target, dtype: int64"
      ]
     },
     "execution_count": 5,
     "metadata": {},
     "output_type": "execute_result"
    }
   ],
   "source": [
    "# Assess the distribution of feature 'target'\n",
    "\n",
    "df_train['target'].value_counts()"
   ]
  },
  {
   "cell_type": "code",
   "execution_count": 6,
   "metadata": {},
   "outputs": [],
   "source": [
    "# Create a text preprocessing pipeline\n",
    "\n",
    "stopwords = set(stopwords.words('english'))\n",
    "\n",
    "stemmer = PorterStemmer()\n",
    "\n",
    "# Pipeline - Text Preprocessing\n",
    "def preprocessing(string):\n",
    "    ###\n",
    "    # Remove links withhttp/https\n",
    "    string = re.sub(r'http\\S+', '', string, flags=re.MULTILINE)\n",
    "    ###\n",
    "    # Remove hashtags\n",
    "    string = re.sub(r'#(\\w+)', '', string, flags=re.MULTILINE)\n",
    "    ###\n",
    "    # Remove mentions\n",
    "    string = re.sub(r'@(\\w+)', '', string, flags=re.MULTILINE)\n",
    "    ###\n",
    "    # Remove Numbers\n",
    "    string = re.sub(r'\\d', '', string)\n",
    "    ###\n",
    "    # Remove Special Characters\n",
    "    string = re.sub(r\"[^a-zA-Z0-9]+\", ' ', string)\n",
    "    ###\n",
    "    # Lowercase words\n",
    "    string = string.lower()\n",
    "    ###\n",
    "    # Word Tokenize\n",
    "    words = word_tokenize(string)\n",
    "    ###\n",
    "    # Remove Stopwords\n",
    "    filtered_words = []\n",
    "    for w in words:\n",
    "        if w not in stopwords:\n",
    "            filtered_words.append(w)\n",
    "    ###\n",
    "    # Stemming Words\n",
    "    stem_words = []\n",
    "    for w in filtered_words:\n",
    "        s_words = stemmer.stem(w)\n",
    "        stem_words.append(s_words)\n",
    "    ###\n",
    "    return stem_words"
   ]
  },
  {
   "cell_type": "code",
   "execution_count": 7,
   "metadata": {},
   "outputs": [],
   "source": [
    "# Apply the function in the text column and save in a new feature 'filtered words'\n",
    "\n",
    "df_train[\"filtered_words\"] = df_train['text'].apply(lambda x: preprocessing(x))\n",
    "\n",
    "# For each row, join the tokens in a string\n",
    "\n",
    "df_train['join_words'] = df_train['filtered_words'].apply(lambda x: ' '.join(x))"
   ]
  },
  {
   "cell_type": "code",
   "execution_count": 8,
   "metadata": {
    "scrolled": true
   },
   "outputs": [
    {
     "data": {
      "text/html": [
       "<div>\n",
       "<style scoped>\n",
       "    .dataframe tbody tr th:only-of-type {\n",
       "        vertical-align: middle;\n",
       "    }\n",
       "\n",
       "    .dataframe tbody tr th {\n",
       "        vertical-align: top;\n",
       "    }\n",
       "\n",
       "    .dataframe thead th {\n",
       "        text-align: right;\n",
       "    }\n",
       "</style>\n",
       "<table border=\"1\" class=\"dataframe\">\n",
       "  <thead>\n",
       "    <tr style=\"text-align: right;\">\n",
       "      <th></th>\n",
       "      <th>id</th>\n",
       "      <th>keyword</th>\n",
       "      <th>location</th>\n",
       "      <th>text</th>\n",
       "      <th>target</th>\n",
       "      <th>filtered_words</th>\n",
       "      <th>join_words</th>\n",
       "    </tr>\n",
       "  </thead>\n",
       "  <tbody>\n",
       "    <tr>\n",
       "      <td>0</td>\n",
       "      <td>1</td>\n",
       "      <td>NaN</td>\n",
       "      <td>NaN</td>\n",
       "      <td>Our Deeds are the Reason of this #earthquake M...</td>\n",
       "      <td>1</td>\n",
       "      <td>[deed, reason, may, allah, forgiv, us]</td>\n",
       "      <td>deed reason may allah forgiv us</td>\n",
       "    </tr>\n",
       "    <tr>\n",
       "      <td>1</td>\n",
       "      <td>4</td>\n",
       "      <td>NaN</td>\n",
       "      <td>NaN</td>\n",
       "      <td>Forest fire near La Ronge Sask. Canada</td>\n",
       "      <td>1</td>\n",
       "      <td>[forest, fire, near, la, rong, sask, canada]</td>\n",
       "      <td>forest fire near la rong sask canada</td>\n",
       "    </tr>\n",
       "    <tr>\n",
       "      <td>2</td>\n",
       "      <td>5</td>\n",
       "      <td>NaN</td>\n",
       "      <td>NaN</td>\n",
       "      <td>All residents asked to 'shelter in place' are ...</td>\n",
       "      <td>1</td>\n",
       "      <td>[resid, ask, shelter, place, notifi, offic, ev...</td>\n",
       "      <td>resid ask shelter place notifi offic evacu she...</td>\n",
       "    </tr>\n",
       "    <tr>\n",
       "      <td>3</td>\n",
       "      <td>6</td>\n",
       "      <td>NaN</td>\n",
       "      <td>NaN</td>\n",
       "      <td>13,000 people receive #wildfires evacuation or...</td>\n",
       "      <td>1</td>\n",
       "      <td>[peopl, receiv, evacu, order, california]</td>\n",
       "      <td>peopl receiv evacu order california</td>\n",
       "    </tr>\n",
       "    <tr>\n",
       "      <td>4</td>\n",
       "      <td>7</td>\n",
       "      <td>NaN</td>\n",
       "      <td>NaN</td>\n",
       "      <td>Just got sent this photo from Ruby #Alaska as ...</td>\n",
       "      <td>1</td>\n",
       "      <td>[got, sent, photo, rubi, smoke, pour, school]</td>\n",
       "      <td>got sent photo rubi smoke pour school</td>\n",
       "    </tr>\n",
       "  </tbody>\n",
       "</table>\n",
       "</div>"
      ],
      "text/plain": [
       "   id keyword location                                               text  \\\n",
       "0   1     NaN      NaN  Our Deeds are the Reason of this #earthquake M...   \n",
       "1   4     NaN      NaN             Forest fire near La Ronge Sask. Canada   \n",
       "2   5     NaN      NaN  All residents asked to 'shelter in place' are ...   \n",
       "3   6     NaN      NaN  13,000 people receive #wildfires evacuation or...   \n",
       "4   7     NaN      NaN  Just got sent this photo from Ruby #Alaska as ...   \n",
       "\n",
       "   target                                     filtered_words  \\\n",
       "0       1             [deed, reason, may, allah, forgiv, us]   \n",
       "1       1       [forest, fire, near, la, rong, sask, canada]   \n",
       "2       1  [resid, ask, shelter, place, notifi, offic, ev...   \n",
       "3       1          [peopl, receiv, evacu, order, california]   \n",
       "4       1      [got, sent, photo, rubi, smoke, pour, school]   \n",
       "\n",
       "                                          join_words  \n",
       "0                    deed reason may allah forgiv us  \n",
       "1               forest fire near la rong sask canada  \n",
       "2  resid ask shelter place notifi offic evacu she...  \n",
       "3                peopl receiv evacu order california  \n",
       "4              got sent photo rubi smoke pour school  "
      ]
     },
     "execution_count": 8,
     "metadata": {},
     "output_type": "execute_result"
    }
   ],
   "source": [
    "# Overview of Text Preprocessing\n",
    "\n",
    "df_train.head()"
   ]
  },
  {
   "cell_type": "code",
   "execution_count": 9,
   "metadata": {},
   "outputs": [],
   "source": [
    "# Define TF-IDF Vectorizer\n",
    "\n",
    "tfidf = TfidfVectorizer(use_idf = True)"
   ]
  },
  {
   "cell_type": "code",
   "execution_count": 10,
   "metadata": {},
   "outputs": [],
   "source": [
    "# DataViz\n",
    "\n",
    "# Transform a dataset using TF-IDF Vectorizer and save in a DenseType\n",
    "\n",
    "corpus_tfidf = tfidf.fit_transform(df_train['join_words'])\n",
    "matrix_corpus = corpus_tfidf.todense()"
   ]
  },
  {
   "cell_type": "code",
   "execution_count": 11,
   "metadata": {},
   "outputs": [],
   "source": [
    "# Use PCA to reduce to 100 dimensions\n",
    "\n",
    "pca_red = PCA(n_components=100)\n",
    "pca_corpus = pca_red.fit_transform(matrix_corpus)"
   ]
  },
  {
   "cell_type": "code",
   "execution_count": 12,
   "metadata": {},
   "outputs": [],
   "source": [
    "# Use t-SNE to convert 100 dimensions to 2 coordinates\n",
    "\n",
    "t_SNE = TSNE(n_components = 2, random_state = random_seed)\n",
    "tSNE_corpus = t_SNE.fit_transform(pca_corpus)"
   ]
  },
  {
   "cell_type": "code",
   "execution_count": 13,
   "metadata": {},
   "outputs": [],
   "source": [
    "# Create a new dataframe for a scatterplot\n",
    "\n",
    "df_t_SNE = pd.DataFrame(tSNE_corpus, columns = ['x_tSNE', 'y_tSNE'])\n",
    "df_scatter = pd.concat([df_t_SNE, df_train['target']], axis = 1)"
   ]
  },
  {
   "cell_type": "code",
   "execution_count": 14,
   "metadata": {
    "scrolled": false
   },
   "outputs": [
    {
     "data": {
      "image/png": "[encoded data removed]",
      "text/plain": [
       "<Figure size 720x576 with 1 Axes>"
      ]
     },
     "metadata": {
      "needs_background": "light"
     },
     "output_type": "display_data"
    }
   ],
   "source": [
    "# Plot - Words Distribution\n",
    "\n",
    "fig, ax = plt.subplots(figsize=(10,8))\n",
    "scatter = ax.scatter(df_scatter['x_tSNE'], \n",
    "            df_scatter['y_tSNE'], \n",
    "            c = df_train['target'], \n",
    "            label = df_train['target']\n",
    "           )\n",
    "legend = ax.legend(*scatter.legend_elements(alpha=0.6), loc=\"upper right\", title=\"target\")\n",
    "ax.add_artist(legend)\n",
    "plt.xlim(-100, 100)\n",
    "plt.ylim(-100, 100)\n",
    "plt.title(\"Words Distribution\")\n",
    "plt.show()"
   ]
  },
  {
   "cell_type": "markdown",
   "metadata": {},
   "source": [
    "From words clustering, we can find out that don't have any well-defined separation between classes. <br>"
   ]
  },
  {
   "cell_type": "markdown",
   "metadata": {},
   "source": [
    "##   "
   ]
  },
  {
   "cell_type": "markdown",
   "metadata": {},
   "source": [
    "## Modelling\n",
    "\n",
    "In this section, we will test some models to find out which one brings better results according to ROC-AUC curve."
   ]
  },
  {
   "cell_type": "code",
   "execution_count": 15,
   "metadata": {},
   "outputs": [],
   "source": [
    "# Modelling\n",
    "\n",
    "# Create a list of ML models that will be used\n",
    "\n",
    "list_models = [\n",
    "{'model_name': 'Logistic Regression',\n",
    " 'estimator' : LogisticRegression(random_state = random_seed, \n",
    "                                  solver = 'lbfgs')},\n",
    "{'model_name': 'Decision Tree',\n",
    " 'estimator' : DecisionTreeClassifier(random_state = random_seed)},\n",
    "{'model_name': 'Random Forest',\n",
    " 'estimator' : RandomForestClassifier(random_state = random_seed)},\n",
    "{'model_name': 'Naive Bayes',\n",
    " 'estimator' : GaussianNB()},  \n",
    "{'model_name': 'XGBoost',\n",
    " 'estimator' : xgb.XGBClassifier(random_state = random_seed)}\n",
    "]"
   ]
  },
  {
   "cell_type": "code",
   "execution_count": 16,
   "metadata": {},
   "outputs": [],
   "source": [
    "# Create a function for a TF-IDF Vectorizer and return a DenseMatrix\n",
    "\n",
    "def TF_IDF_fit_transform(X_to_fit_and_transform, X_to_transform):\n",
    "    X_fit_transformed = tfidf.fit_transform(X_to_fit_and_transform)\n",
    "    X_transformed     = tfidf.transform(X_to_transform)\n",
    "    return X_fit_transformed.todense(), X_transformed.todense()"
   ]
  },
  {
   "cell_type": "code",
   "execution_count": 17,
   "metadata": {},
   "outputs": [],
   "source": [
    "# Create a function that receive a list of models, test each model and return all metrics and ROC-AUC curve\n",
    "\n",
    "def test_models_plot_roc_auc_curve(model_list, col_model_name, col_model, X_train, X_val, y_train, y_val):\n",
    "    for mdl in model_list:\n",
    "        model = mdl[col_model]\n",
    "        model.fit(X_train, y_train)\n",
    "        y_predict = model.predict(X_val)\n",
    "        fpr, tpr, thresholds = metrics.roc_curve(y_val, model.predict_proba(X_val)[:,1])\n",
    "        auc = metrics.roc_auc_score(y_val, model.predict(X_val))\n",
    "        plt.plot(fpr, tpr, label='%s ROC (AUC = %0.2f)' % (mdl[col_model_name], auc))\n",
    "        print(\"Model      : %s\" % mdl[col_model_name])\n",
    "        print(\"Accuracy   : %0.4f \" %  accuracy_score(y_val, y_predict))\n",
    "        print(\"Precision  : %0.4f \" % precision_score(y_val, y_predict, average='weighted'))\n",
    "        print(\"Recall     : %0.4f \" % recall_score(y_val, y_predict, average='weighted'))\n",
    "        print(\"F1 - Score : %0.4f \" % f1_score(y_val, y_predict, average='weighted'))\n",
    "        print(\"ROC - AUC  : %0.4f \" % auc)\n",
    "        print(\"======================\")\n",
    "    plt.plot([0, 1], [0, 1],'r--')\n",
    "    plt.xlim([0.0, 1.0])\n",
    "    plt.ylim([0.0, 1.05])\n",
    "    plt.xlabel('False Positive Rate')\n",
    "    plt.ylabel('True Positive Rate')\n",
    "    plt.title('ROC-AUC curve')\n",
    "    plt.legend(loc=\"lower right\")\n",
    "    plt.show()"
   ]
  },
  {
   "cell_type": "code",
   "execution_count": 18,
   "metadata": {
    "scrolled": false
   },
   "outputs": [
    {
     "name": "stdout",
     "output_type": "stream",
     "text": [
      "Model      : Logistic Regression\n",
      "Accuracy   : 0.8039 \n",
      "Precision  : 0.8062 \n",
      "Recall     : 0.8039 \n",
      "F1 - Score : 0.8004 \n",
      "ROC - AUC  : 0.7875 \n",
      "======================\n",
      "Model      : Decision Tree\n",
      "Accuracy   : 0.7163 \n",
      "Precision  : 0.7242 \n",
      "Recall     : 0.7163 \n",
      "F1 - Score : 0.7179 \n",
      "ROC - AUC  : 0.7185 \n",
      "======================\n",
      "Model      : Random Forest\n",
      "Accuracy   : 0.7618 \n",
      "Precision  : 0.7624 \n",
      "Recall     : 0.7618 \n",
      "F1 - Score : 0.7621 \n",
      "ROC - AUC  : 0.7571 \n",
      "======================\n",
      "Model      : Naive Bayes\n",
      "Accuracy   : 0.5880 \n",
      "Precision  : 0.6446 \n",
      "Recall     : 0.5880 \n",
      "F1 - Score : 0.5795 \n",
      "ROC - AUC  : 0.6158 \n",
      "======================\n",
      "Model      : XGBoost\n",
      "Accuracy   : 0.7360 \n",
      "Precision  : 0.7622 \n",
      "Recall     : 0.7360 \n",
      "F1 - Score : 0.7163 \n",
      "ROC - AUC  : 0.6995 \n",
      "======================\n"
     ]
    },
    {
     "data": {
      "image/png": "[encoded data removed]",
      "text/plain": [
       "<Figure size 432x288 with 1 Axes>"
      ]
     },
     "metadata": {
      "needs_background": "light"
     },
     "output_type": "display_data"
    }
   ],
   "source": [
    "# Splitting the data into train and test sets\n",
    "\n",
    "X_train, X_val, y_train, y_val = train_test_split(df_train['join_words'], \n",
    "                                                     df_train['target'], \n",
    "                                                     test_size = 0.3, \n",
    "                                                     random_state = random_seed)\n",
    "\n",
    "X_train_tfidf, X_val_tfidf = TF_IDF_fit_transform(X_train, X_val)\n",
    "\n",
    "test_models_plot_roc_auc_curve(list_models,\n",
    "                                \"model_name\",\n",
    "                                \"estimator\",\n",
    "                                X_train_tfidf,\n",
    "                                X_val_tfidf,\n",
    "                                y_train,\n",
    "                                y_val)"
   ]
  },
  {
   "cell_type": "markdown",
   "metadata": {},
   "source": [
    "The ROC curve is created by plotting true positive rate against the false positive rate and the area under curve (AUC) represents degree or measure of separability, that means how much model is capable of distinguishing between TN and TP. So higher the AUC, better our model will distinguish between disasters and no-disasters tweets.<br><br>\n",
    "For a list of models, the model with a highest AUC is Logistic Regression (AUC = 0,79).<br><br>"
   ]
  },
  {
   "cell_type": "code",
   "execution_count": 19,
   "metadata": {},
   "outputs": [],
   "source": [
    "#Fit the best model and predict the values\n",
    "\n",
    "clf = LogisticRegression()\n",
    "clf.fit(X_train_tfidf, y_train)\n",
    "y_predict_val = clf.predict(X_val_tfidf)"
   ]
  },
  {
   "cell_type": "code",
   "execution_count": 20,
   "metadata": {},
   "outputs": [],
   "source": [
    "# Create a function for plot the classification report and confusion matrix\n",
    "\n",
    "def plot_report_cmatrix(y_test,\n",
    "                       y_predict,\n",
    "                       labels,\n",
    "                       classes,\n",
    "                       normalize=False,\n",
    "                       title='Confusion Matrix',\n",
    "                       cmap=plt.cm.Blues):\n",
    "    \n",
    "    cm = confusion_matrix(y_test, y_predict, labels)\n",
    "    np.set_printoptions(precision=2)\n",
    "    \n",
    "    plt.figure(figsize=(8, 6))\n",
    "    plt.imshow(cm, \n",
    "               interpolation='nearest', \n",
    "               cmap=cmap,\n",
    "               origin='middle')\n",
    "    plt.title(title)\n",
    "    plt.colorbar()\n",
    "    tick_marks = np.arange(len(classes))\n",
    "    plt.xticks(tick_marks, classes, rotation=45)\n",
    "    plt.yticks(tick_marks, classes)\n",
    "\n",
    "    fmt = '.2f' if normalize else 'd'\n",
    "    thresh = cm.max() / 2.\n",
    "    for i, j in itertools.product(range(cm.shape[0]), range(cm.shape[1])):\n",
    "        plt.text(j, i, format(cm[i, j], fmt),\n",
    "                 horizontalalignment=\"center\",\n",
    "                 color=\"white\" if cm[i, j] > thresh else \"black\")\n",
    "\n",
    "    plt.tight_layout()\n",
    "    plt.ylabel('True label')\n",
    "    plt.ylim([1.5, -.5])\n",
    "    plt.xlabel('Predicted label')\n",
    "\n",
    "    \n",
    "    print('Classification Report')\n",
    "    print(classification_report(y_test, y_predict))\n",
    "    \n",
    "    plt.show()"
   ]
  },
  {
   "cell_type": "code",
   "execution_count": 21,
   "metadata": {
    "scrolled": false
   },
   "outputs": [
    {
     "name": "stdout",
     "output_type": "stream",
     "text": [
      "Classification Report\n",
      "              precision    recall  f1-score   support\n",
      "\n",
      "           0       0.79      0.89      0.84      1318\n",
      "           1       0.82      0.68      0.75       966\n",
      "\n",
      "    accuracy                           0.80      2284\n",
      "   macro avg       0.81      0.79      0.79      2284\n",
      "weighted avg       0.81      0.80      0.80      2284\n",
      "\n"
     ]
    },
    {
     "data": {
      "image/png": "[encoded data removed]",
      "text/plain": [
       "<Figure size 576x432 with 2 Axes>"
      ]
     },
     "metadata": {
      "needs_background": "light"
     },
     "output_type": "display_data"
    }
   ],
   "source": [
    "# Plot classification report and confusion matrix for validation dataset\n",
    "\n",
    "plot_report_cmatrix(y_val, \n",
    "                    y_predict_val, \n",
    "                    labels = [0, 1], \n",
    "                    classes = ['disaster = 0','disaster = 1'], \n",
    "                    normalize = False, \n",
    "                    title = 'Confusion Matrix')"
   ]
  },
  {
   "cell_type": "markdown",
   "metadata": {},
   "source": [
    "#  "
   ]
  },
  {
   "cell_type": "markdown",
   "metadata": {},
   "source": [
    "## Threshold Selection\n",
    "\n",
    "In this section, we will choose the best threshold for a Logistic Regression model in this problem of Disasters or No-Disasters Tweets, where will maximaze F1-Score because it guarantees a higher recall value (i.e. we will decrease number of Tweets that we classify as no-disaster but actually are disaster Tweets (False Negatives)) and a higher precision value (i.e. we will decrease number of Tweets that we classify as disaster but actually are no-disaster Tweets (False Positives)).<br>"
   ]
  },
  {
   "cell_type": "code",
   "execution_count": 22,
   "metadata": {},
   "outputs": [],
   "source": [
    "# Choosing the best threshold for a Logistic Regression\n",
    "\n",
    "# Create predict and proba for the train dataset in a new dataset\n",
    "\n",
    "y_proba_train = clf.predict_proba(X_train_tfidf)\n",
    "y_predict_train = clf.predict(X_train_tfidf)\n",
    "results_train = pd.DataFrame(y_train)\n",
    "results_train['proba'] = np.round(y_proba_train[:,1], 3)"
   ]
  },
  {
   "cell_type": "code",
   "execution_count": 23,
   "metadata": {
    "scrolled": false
   },
   "outputs": [
    {
     "data": {
      "text/html": [
       "<div>\n",
       "<style scoped>\n",
       "    .dataframe tbody tr th:only-of-type {\n",
       "        vertical-align: middle;\n",
       "    }\n",
       "\n",
       "    .dataframe tbody tr th {\n",
       "        vertical-align: top;\n",
       "    }\n",
       "\n",
       "    .dataframe thead th {\n",
       "        text-align: right;\n",
       "    }\n",
       "</style>\n",
       "<table border=\"1\" class=\"dataframe\">\n",
       "  <thead>\n",
       "    <tr style=\"text-align: right;\">\n",
       "      <th></th>\n",
       "      <th>target</th>\n",
       "      <th>proba</th>\n",
       "    </tr>\n",
       "  </thead>\n",
       "  <tbody>\n",
       "    <tr>\n",
       "      <td>1186</td>\n",
       "      <td>0</td>\n",
       "      <td>0.541</td>\n",
       "    </tr>\n",
       "    <tr>\n",
       "      <td>4071</td>\n",
       "      <td>1</td>\n",
       "      <td>0.428</td>\n",
       "    </tr>\n",
       "    <tr>\n",
       "      <td>5461</td>\n",
       "      <td>1</td>\n",
       "      <td>0.882</td>\n",
       "    </tr>\n",
       "    <tr>\n",
       "      <td>5787</td>\n",
       "      <td>1</td>\n",
       "      <td>0.491</td>\n",
       "    </tr>\n",
       "    <tr>\n",
       "      <td>7445</td>\n",
       "      <td>0</td>\n",
       "      <td>0.314</td>\n",
       "    </tr>\n",
       "  </tbody>\n",
       "</table>\n",
       "</div>"
      ],
      "text/plain": [
       "      target  proba\n",
       "1186       0  0.541\n",
       "4071       1  0.428\n",
       "5461       1  0.882\n",
       "5787       1  0.491\n",
       "7445       0  0.314"
      ]
     },
     "execution_count": 23,
     "metadata": {},
     "output_type": "execute_result"
    }
   ],
   "source": [
    "# Overview for the new dataset\n",
    "\n",
    "results_train.head()"
   ]
  },
  {
   "cell_type": "code",
   "execution_count": 24,
   "metadata": {},
   "outputs": [],
   "source": [
    "# Create predict and proba for the validation dataset in a new dataset\n",
    "\n",
    "y_proba_val = clf.predict_proba(X_val_tfidf)\n",
    "results_val = pd.DataFrame(y_val)\n",
    "results_val['proba'] = np.round(y_proba_val[:,1], 3)"
   ]
  },
  {
   "cell_type": "code",
   "execution_count": 25,
   "metadata": {},
   "outputs": [
    {
     "data": {
      "text/html": [
       "<div>\n",
       "<style scoped>\n",
       "    .dataframe tbody tr th:only-of-type {\n",
       "        vertical-align: middle;\n",
       "    }\n",
       "\n",
       "    .dataframe tbody tr th {\n",
       "        vertical-align: top;\n",
       "    }\n",
       "\n",
       "    .dataframe thead th {\n",
       "        text-align: right;\n",
       "    }\n",
       "</style>\n",
       "<table border=\"1\" class=\"dataframe\">\n",
       "  <thead>\n",
       "    <tr style=\"text-align: right;\">\n",
       "      <th></th>\n",
       "      <th>target</th>\n",
       "      <th>proba</th>\n",
       "    </tr>\n",
       "  </thead>\n",
       "  <tbody>\n",
       "    <tr>\n",
       "      <td>2644</td>\n",
       "      <td>1</td>\n",
       "      <td>0.278</td>\n",
       "    </tr>\n",
       "    <tr>\n",
       "      <td>2227</td>\n",
       "      <td>0</td>\n",
       "      <td>0.235</td>\n",
       "    </tr>\n",
       "    <tr>\n",
       "      <td>5448</td>\n",
       "      <td>1</td>\n",
       "      <td>0.648</td>\n",
       "    </tr>\n",
       "    <tr>\n",
       "      <td>132</td>\n",
       "      <td>0</td>\n",
       "      <td>0.087</td>\n",
       "    </tr>\n",
       "    <tr>\n",
       "      <td>6845</td>\n",
       "      <td>0</td>\n",
       "      <td>0.321</td>\n",
       "    </tr>\n",
       "  </tbody>\n",
       "</table>\n",
       "</div>"
      ],
      "text/plain": [
       "      target  proba\n",
       "2644       1  0.278\n",
       "2227       0  0.235\n",
       "5448       1  0.648\n",
       "132        0  0.087\n",
       "6845       0  0.321"
      ]
     },
     "execution_count": 25,
     "metadata": {},
     "output_type": "execute_result"
    }
   ],
   "source": [
    "# Overview for the dataset\n",
    "\n",
    "results_val.head()"
   ]
  },
  {
   "cell_type": "code",
   "execution_count": 26,
   "metadata": {},
   "outputs": [],
   "source": [
    "# Looping Parameters\n",
    "\n",
    "threshold_increment  = 0.02\n",
    "threshold_begin = threshold_increment\n",
    "threshold_end    = 1.0"
   ]
  },
  {
   "cell_type": "code",
   "execution_count": 27,
   "metadata": {},
   "outputs": [
    {
     "name": "stdout",
     "output_type": "stream",
     "text": [
      "0.02 0.04 0.06 0.08 0.1 0.12 0.14 0.16 0.18 0.2 0.22 0.24 0.26 0.28 0.3 0.32 0.34 0.36 0.38 0.4 0.42 0.44 0.46 0.48 0.5 0.52 0.54 0.56 0.58 0.6 0.62 0.64 0.66 0.68 0.7 0.72 0.74 0.76 0.78 0.8 0.82 0.84 0.86 0.88 0.9 0.92 0.94 0.96 0.98 1.0 "
     ]
    }
   ],
   "source": [
    "# For each threshold, in a looping calculate TN, FN, FP, TP and others metrics\n",
    "\n",
    "list_threshold  = []\n",
    "list_TN         = []\n",
    "list_FN         = []\n",
    "list_FP         = []\n",
    "list_TP         = []\n",
    "list_precision  = []\n",
    "list_recall     = []\n",
    "list_accuracy   = []\n",
    "list_f1_score   = []\n",
    "\n",
    "for i in np.arange(threshold_begin, threshold_end + threshold_increment, threshold_increment):\n",
    "    i_threshold = np.round(i, 2)\n",
    "    print(str(i_threshold) + ' ', end = '')\n",
    "    \n",
    "    results_train['y_pred'] = results_train['proba'].apply(lambda x: 1 if x >= i_threshold else 0)\n",
    "    results_train['flag_TN'] = np.where((results_train['y_pred'] == 0) & (results_train['target'] == 0), 1, 0)\n",
    "    results_train['flag_FN'] = np.where((results_train['y_pred'] == 0) & (results_train['target'] == 1), 1, 0)\n",
    "    results_train['flag_TP'] = np.where((results_train['y_pred'] == 1) & (results_train['target'] == 1), 1, 0)\n",
    "    results_train['flag_FP'] = np.where((results_train['y_pred'] == 1) & (results_train['target'] == 0), 1, 0)\n",
    "  \n",
    "    TN = results_train['flag_TN'].sum()\n",
    "    FN = results_train['flag_FN'].sum()\n",
    "    TP = results_train['flag_TP'].sum()\n",
    "    FP = results_train['flag_FP'].sum()\n",
    "    \n",
    "    precision = np.where((TP + FP) > 0, TP / (TP + FP), 0)\n",
    "    recall = np.where((TP + FN) > 0, TP / (TP + FN), 0)\n",
    "    accuracy = np.where((TN + FN + TP + FP) > 0, \n",
    "                         (TP + TN)/(TN + FN + TP + FP), 0)\n",
    "    f1_score = np.where((precision + recall) > 0, (2 * precision * recall)/(precision + recall), 0)\n",
    "    \n",
    "    list_threshold.append(i_threshold)\n",
    "    list_TN.append(TN)\n",
    "    list_FN.append(FN)\n",
    "    list_FP.append(FP)\n",
    "    list_TP.append(TP)\n",
    "    list_precision.append(np.round(precision, 4))\n",
    "    list_recall.append(np.round(recall, 4))\n",
    "    list_accuracy.append(np.round(accuracy, 4))\n",
    "    list_f1_score.append(np.round(f1_score, 4))\n",
    "\n",
    "#---------------------\n",
    "dict_output = {\n",
    "  \"threshold\" : list_threshold, \n",
    "  \"TN\" : list_TN,\n",
    "  \"FN\" : list_FN,\n",
    "  \"FP\" : list_FP,\n",
    "  \"TP\" : list_TP,\n",
    "  \"precision\" : list_precision,\n",
    "  \"recall\" : list_recall,\n",
    "  \"accuracy\" : list_accuracy,\n",
    "  \"f1_score\" : list_f1_score\n",
    "}\n",
    "\n",
    "df_results = pd.DataFrame(dict_output)"
   ]
  },
  {
   "cell_type": "code",
   "execution_count": 28,
   "metadata": {},
   "outputs": [
    {
     "data": {
      "text/html": [
       "<div>\n",
       "<style scoped>\n",
       "    .dataframe tbody tr th:only-of-type {\n",
       "        vertical-align: middle;\n",
       "    }\n",
       "\n",
       "    .dataframe tbody tr th {\n",
       "        vertical-align: top;\n",
       "    }\n",
       "\n",
       "    .dataframe thead th {\n",
       "        text-align: right;\n",
       "    }\n",
       "</style>\n",
       "<table border=\"1\" class=\"dataframe\">\n",
       "  <thead>\n",
       "    <tr style=\"text-align: right;\">\n",
       "      <th></th>\n",
       "      <th>threshold</th>\n",
       "      <th>TN</th>\n",
       "      <th>FN</th>\n",
       "      <th>FP</th>\n",
       "      <th>TP</th>\n",
       "      <th>precision</th>\n",
       "      <th>recall</th>\n",
       "      <th>accuracy</th>\n",
       "      <th>f1_score</th>\n",
       "    </tr>\n",
       "  </thead>\n",
       "  <tbody>\n",
       "    <tr>\n",
       "      <td>0</td>\n",
       "      <td>0.02</td>\n",
       "      <td>0</td>\n",
       "      <td>0</td>\n",
       "      <td>3024</td>\n",
       "      <td>2305</td>\n",
       "      <td>0.4325</td>\n",
       "      <td>1.0000</td>\n",
       "      <td>0.4325</td>\n",
       "      <td>0.6039</td>\n",
       "    </tr>\n",
       "    <tr>\n",
       "      <td>1</td>\n",
       "      <td>0.04</td>\n",
       "      <td>1</td>\n",
       "      <td>0</td>\n",
       "      <td>3023</td>\n",
       "      <td>2305</td>\n",
       "      <td>0.4326</td>\n",
       "      <td>1.0000</td>\n",
       "      <td>0.4327</td>\n",
       "      <td>0.6040</td>\n",
       "    </tr>\n",
       "    <tr>\n",
       "      <td>2</td>\n",
       "      <td>0.06</td>\n",
       "      <td>2</td>\n",
       "      <td>0</td>\n",
       "      <td>3022</td>\n",
       "      <td>2305</td>\n",
       "      <td>0.4327</td>\n",
       "      <td>1.0000</td>\n",
       "      <td>0.4329</td>\n",
       "      <td>0.6040</td>\n",
       "    </tr>\n",
       "    <tr>\n",
       "      <td>3</td>\n",
       "      <td>0.08</td>\n",
       "      <td>22</td>\n",
       "      <td>0</td>\n",
       "      <td>3002</td>\n",
       "      <td>2305</td>\n",
       "      <td>0.4343</td>\n",
       "      <td>1.0000</td>\n",
       "      <td>0.4367</td>\n",
       "      <td>0.6056</td>\n",
       "    </tr>\n",
       "    <tr>\n",
       "      <td>4</td>\n",
       "      <td>0.10</td>\n",
       "      <td>67</td>\n",
       "      <td>0</td>\n",
       "      <td>2957</td>\n",
       "      <td>2305</td>\n",
       "      <td>0.4380</td>\n",
       "      <td>1.0000</td>\n",
       "      <td>0.4451</td>\n",
       "      <td>0.6092</td>\n",
       "    </tr>\n",
       "    <tr>\n",
       "      <td>5</td>\n",
       "      <td>0.12</td>\n",
       "      <td>156</td>\n",
       "      <td>1</td>\n",
       "      <td>2868</td>\n",
       "      <td>2304</td>\n",
       "      <td>0.4455</td>\n",
       "      <td>0.9996</td>\n",
       "      <td>0.4616</td>\n",
       "      <td>0.6163</td>\n",
       "    </tr>\n",
       "    <tr>\n",
       "      <td>6</td>\n",
       "      <td>0.14</td>\n",
       "      <td>256</td>\n",
       "      <td>2</td>\n",
       "      <td>2768</td>\n",
       "      <td>2303</td>\n",
       "      <td>0.4542</td>\n",
       "      <td>0.9991</td>\n",
       "      <td>0.4802</td>\n",
       "      <td>0.6245</td>\n",
       "    </tr>\n",
       "    <tr>\n",
       "      <td>7</td>\n",
       "      <td>0.16</td>\n",
       "      <td>424</td>\n",
       "      <td>7</td>\n",
       "      <td>2600</td>\n",
       "      <td>2298</td>\n",
       "      <td>0.4692</td>\n",
       "      <td>0.9970</td>\n",
       "      <td>0.5108</td>\n",
       "      <td>0.6381</td>\n",
       "    </tr>\n",
       "    <tr>\n",
       "      <td>8</td>\n",
       "      <td>0.18</td>\n",
       "      <td>635</td>\n",
       "      <td>11</td>\n",
       "      <td>2389</td>\n",
       "      <td>2294</td>\n",
       "      <td>0.4899</td>\n",
       "      <td>0.9952</td>\n",
       "      <td>0.5496</td>\n",
       "      <td>0.6566</td>\n",
       "    </tr>\n",
       "    <tr>\n",
       "      <td>9</td>\n",
       "      <td>0.20</td>\n",
       "      <td>859</td>\n",
       "      <td>20</td>\n",
       "      <td>2165</td>\n",
       "      <td>2285</td>\n",
       "      <td>0.5135</td>\n",
       "      <td>0.9913</td>\n",
       "      <td>0.5900</td>\n",
       "      <td>0.6765</td>\n",
       "    </tr>\n",
       "    <tr>\n",
       "      <td>10</td>\n",
       "      <td>0.22</td>\n",
       "      <td>1108</td>\n",
       "      <td>24</td>\n",
       "      <td>1916</td>\n",
       "      <td>2281</td>\n",
       "      <td>0.5435</td>\n",
       "      <td>0.9896</td>\n",
       "      <td>0.6360</td>\n",
       "      <td>0.7016</td>\n",
       "    </tr>\n",
       "    <tr>\n",
       "      <td>11</td>\n",
       "      <td>0.24</td>\n",
       "      <td>1341</td>\n",
       "      <td>40</td>\n",
       "      <td>1683</td>\n",
       "      <td>2265</td>\n",
       "      <td>0.5737</td>\n",
       "      <td>0.9826</td>\n",
       "      <td>0.6767</td>\n",
       "      <td>0.7245</td>\n",
       "    </tr>\n",
       "    <tr>\n",
       "      <td>12</td>\n",
       "      <td>0.26</td>\n",
       "      <td>1605</td>\n",
       "      <td>47</td>\n",
       "      <td>1419</td>\n",
       "      <td>2258</td>\n",
       "      <td>0.6141</td>\n",
       "      <td>0.9796</td>\n",
       "      <td>0.7249</td>\n",
       "      <td>0.7549</td>\n",
       "    </tr>\n",
       "    <tr>\n",
       "      <td>13</td>\n",
       "      <td>0.28</td>\n",
       "      <td>1837</td>\n",
       "      <td>61</td>\n",
       "      <td>1187</td>\n",
       "      <td>2244</td>\n",
       "      <td>0.6540</td>\n",
       "      <td>0.9735</td>\n",
       "      <td>0.7658</td>\n",
       "      <td>0.7824</td>\n",
       "    </tr>\n",
       "    <tr>\n",
       "      <td>14</td>\n",
       "      <td>0.30</td>\n",
       "      <td>2049</td>\n",
       "      <td>77</td>\n",
       "      <td>975</td>\n",
       "      <td>2228</td>\n",
       "      <td>0.6956</td>\n",
       "      <td>0.9666</td>\n",
       "      <td>0.8026</td>\n",
       "      <td>0.8090</td>\n",
       "    </tr>\n",
       "    <tr>\n",
       "      <td>15</td>\n",
       "      <td>0.32</td>\n",
       "      <td>2222</td>\n",
       "      <td>93</td>\n",
       "      <td>802</td>\n",
       "      <td>2212</td>\n",
       "      <td>0.7339</td>\n",
       "      <td>0.9597</td>\n",
       "      <td>0.8321</td>\n",
       "      <td>0.8317</td>\n",
       "    </tr>\n",
       "    <tr>\n",
       "      <td>16</td>\n",
       "      <td>0.34</td>\n",
       "      <td>2362</td>\n",
       "      <td>121</td>\n",
       "      <td>662</td>\n",
       "      <td>2184</td>\n",
       "      <td>0.7674</td>\n",
       "      <td>0.9475</td>\n",
       "      <td>0.8531</td>\n",
       "      <td>0.8480</td>\n",
       "    </tr>\n",
       "    <tr>\n",
       "      <td>17</td>\n",
       "      <td>0.36</td>\n",
       "      <td>2471</td>\n",
       "      <td>162</td>\n",
       "      <td>553</td>\n",
       "      <td>2143</td>\n",
       "      <td>0.7949</td>\n",
       "      <td>0.9297</td>\n",
       "      <td>0.8658</td>\n",
       "      <td>0.8570</td>\n",
       "    </tr>\n",
       "    <tr>\n",
       "      <td>18</td>\n",
       "      <td>0.38</td>\n",
       "      <td>2567</td>\n",
       "      <td>195</td>\n",
       "      <td>457</td>\n",
       "      <td>2110</td>\n",
       "      <td>0.8220</td>\n",
       "      <td>0.9154</td>\n",
       "      <td>0.8777</td>\n",
       "      <td>0.8662</td>\n",
       "    </tr>\n",
       "    <tr>\n",
       "      <td>19</td>\n",
       "      <td>0.40</td>\n",
       "      <td>2643</td>\n",
       "      <td>232</td>\n",
       "      <td>381</td>\n",
       "      <td>2073</td>\n",
       "      <td>0.8447</td>\n",
       "      <td>0.8993</td>\n",
       "      <td>0.8850</td>\n",
       "      <td>0.8712</td>\n",
       "    </tr>\n",
       "    <tr>\n",
       "      <td>20</td>\n",
       "      <td>0.42</td>\n",
       "      <td>2709</td>\n",
       "      <td>284</td>\n",
       "      <td>315</td>\n",
       "      <td>2021</td>\n",
       "      <td>0.8652</td>\n",
       "      <td>0.8768</td>\n",
       "      <td>0.8876</td>\n",
       "      <td>0.8709</td>\n",
       "    </tr>\n",
       "    <tr>\n",
       "      <td>21</td>\n",
       "      <td>0.44</td>\n",
       "      <td>2764</td>\n",
       "      <td>341</td>\n",
       "      <td>260</td>\n",
       "      <td>1964</td>\n",
       "      <td>0.8831</td>\n",
       "      <td>0.8521</td>\n",
       "      <td>0.8872</td>\n",
       "      <td>0.8673</td>\n",
       "    </tr>\n",
       "    <tr>\n",
       "      <td>22</td>\n",
       "      <td>0.46</td>\n",
       "      <td>2815</td>\n",
       "      <td>409</td>\n",
       "      <td>209</td>\n",
       "      <td>1896</td>\n",
       "      <td>0.9007</td>\n",
       "      <td>0.8226</td>\n",
       "      <td>0.8840</td>\n",
       "      <td>0.8599</td>\n",
       "    </tr>\n",
       "    <tr>\n",
       "      <td>23</td>\n",
       "      <td>0.48</td>\n",
       "      <td>2867</td>\n",
       "      <td>468</td>\n",
       "      <td>157</td>\n",
       "      <td>1837</td>\n",
       "      <td>0.9213</td>\n",
       "      <td>0.7970</td>\n",
       "      <td>0.8827</td>\n",
       "      <td>0.8546</td>\n",
       "    </tr>\n",
       "    <tr>\n",
       "      <td>24</td>\n",
       "      <td>0.50</td>\n",
       "      <td>2891</td>\n",
       "      <td>540</td>\n",
       "      <td>133</td>\n",
       "      <td>1765</td>\n",
       "      <td>0.9299</td>\n",
       "      <td>0.7657</td>\n",
       "      <td>0.8737</td>\n",
       "      <td>0.8399</td>\n",
       "    </tr>\n",
       "    <tr>\n",
       "      <td>25</td>\n",
       "      <td>0.52</td>\n",
       "      <td>2919</td>\n",
       "      <td>612</td>\n",
       "      <td>105</td>\n",
       "      <td>1693</td>\n",
       "      <td>0.9416</td>\n",
       "      <td>0.7345</td>\n",
       "      <td>0.8655</td>\n",
       "      <td>0.8252</td>\n",
       "    </tr>\n",
       "    <tr>\n",
       "      <td>26</td>\n",
       "      <td>0.54</td>\n",
       "      <td>2940</td>\n",
       "      <td>672</td>\n",
       "      <td>84</td>\n",
       "      <td>1633</td>\n",
       "      <td>0.9511</td>\n",
       "      <td>0.7085</td>\n",
       "      <td>0.8581</td>\n",
       "      <td>0.8120</td>\n",
       "    </tr>\n",
       "    <tr>\n",
       "      <td>27</td>\n",
       "      <td>0.56</td>\n",
       "      <td>2959</td>\n",
       "      <td>745</td>\n",
       "      <td>65</td>\n",
       "      <td>1560</td>\n",
       "      <td>0.9600</td>\n",
       "      <td>0.6768</td>\n",
       "      <td>0.8480</td>\n",
       "      <td>0.7939</td>\n",
       "    </tr>\n",
       "    <tr>\n",
       "      <td>28</td>\n",
       "      <td>0.58</td>\n",
       "      <td>2975</td>\n",
       "      <td>834</td>\n",
       "      <td>49</td>\n",
       "      <td>1471</td>\n",
       "      <td>0.9678</td>\n",
       "      <td>0.6382</td>\n",
       "      <td>0.8343</td>\n",
       "      <td>0.7692</td>\n",
       "    </tr>\n",
       "    <tr>\n",
       "      <td>29</td>\n",
       "      <td>0.60</td>\n",
       "      <td>2984</td>\n",
       "      <td>902</td>\n",
       "      <td>40</td>\n",
       "      <td>1403</td>\n",
       "      <td>0.9723</td>\n",
       "      <td>0.6087</td>\n",
       "      <td>0.8232</td>\n",
       "      <td>0.7487</td>\n",
       "    </tr>\n",
       "    <tr>\n",
       "      <td>30</td>\n",
       "      <td>0.62</td>\n",
       "      <td>2994</td>\n",
       "      <td>988</td>\n",
       "      <td>30</td>\n",
       "      <td>1317</td>\n",
       "      <td>0.9777</td>\n",
       "      <td>0.5714</td>\n",
       "      <td>0.8090</td>\n",
       "      <td>0.7212</td>\n",
       "    </tr>\n",
       "    <tr>\n",
       "      <td>31</td>\n",
       "      <td>0.64</td>\n",
       "      <td>3004</td>\n",
       "      <td>1072</td>\n",
       "      <td>20</td>\n",
       "      <td>1233</td>\n",
       "      <td>0.9840</td>\n",
       "      <td>0.5349</td>\n",
       "      <td>0.7951</td>\n",
       "      <td>0.6931</td>\n",
       "    </tr>\n",
       "    <tr>\n",
       "      <td>32</td>\n",
       "      <td>0.66</td>\n",
       "      <td>3008</td>\n",
       "      <td>1155</td>\n",
       "      <td>16</td>\n",
       "      <td>1150</td>\n",
       "      <td>0.9863</td>\n",
       "      <td>0.4989</td>\n",
       "      <td>0.7803</td>\n",
       "      <td>0.6626</td>\n",
       "    </tr>\n",
       "    <tr>\n",
       "      <td>33</td>\n",
       "      <td>0.68</td>\n",
       "      <td>3009</td>\n",
       "      <td>1250</td>\n",
       "      <td>15</td>\n",
       "      <td>1055</td>\n",
       "      <td>0.9860</td>\n",
       "      <td>0.4577</td>\n",
       "      <td>0.7626</td>\n",
       "      <td>0.6252</td>\n",
       "    </tr>\n",
       "    <tr>\n",
       "      <td>34</td>\n",
       "      <td>0.70</td>\n",
       "      <td>3014</td>\n",
       "      <td>1334</td>\n",
       "      <td>10</td>\n",
       "      <td>971</td>\n",
       "      <td>0.9898</td>\n",
       "      <td>0.4213</td>\n",
       "      <td>0.7478</td>\n",
       "      <td>0.5910</td>\n",
       "    </tr>\n",
       "    <tr>\n",
       "      <td>35</td>\n",
       "      <td>0.72</td>\n",
       "      <td>3020</td>\n",
       "      <td>1430</td>\n",
       "      <td>4</td>\n",
       "      <td>875</td>\n",
       "      <td>0.9954</td>\n",
       "      <td>0.3796</td>\n",
       "      <td>0.7309</td>\n",
       "      <td>0.5496</td>\n",
       "    </tr>\n",
       "    <tr>\n",
       "      <td>36</td>\n",
       "      <td>0.74</td>\n",
       "      <td>3020</td>\n",
       "      <td>1501</td>\n",
       "      <td>4</td>\n",
       "      <td>804</td>\n",
       "      <td>0.9950</td>\n",
       "      <td>0.3488</td>\n",
       "      <td>0.7176</td>\n",
       "      <td>0.5165</td>\n",
       "    </tr>\n",
       "    <tr>\n",
       "      <td>37</td>\n",
       "      <td>0.76</td>\n",
       "      <td>3022</td>\n",
       "      <td>1586</td>\n",
       "      <td>2</td>\n",
       "      <td>719</td>\n",
       "      <td>0.9972</td>\n",
       "      <td>0.3119</td>\n",
       "      <td>0.7020</td>\n",
       "      <td>0.4752</td>\n",
       "    </tr>\n",
       "    <tr>\n",
       "      <td>38</td>\n",
       "      <td>0.78</td>\n",
       "      <td>3023</td>\n",
       "      <td>1671</td>\n",
       "      <td>1</td>\n",
       "      <td>634</td>\n",
       "      <td>0.9984</td>\n",
       "      <td>0.2751</td>\n",
       "      <td>0.6862</td>\n",
       "      <td>0.4313</td>\n",
       "    </tr>\n",
       "    <tr>\n",
       "      <td>39</td>\n",
       "      <td>0.80</td>\n",
       "      <td>3023</td>\n",
       "      <td>1748</td>\n",
       "      <td>1</td>\n",
       "      <td>557</td>\n",
       "      <td>0.9982</td>\n",
       "      <td>0.2416</td>\n",
       "      <td>0.6718</td>\n",
       "      <td>0.3891</td>\n",
       "    </tr>\n",
       "    <tr>\n",
       "      <td>40</td>\n",
       "      <td>0.82</td>\n",
       "      <td>3024</td>\n",
       "      <td>1802</td>\n",
       "      <td>0</td>\n",
       "      <td>503</td>\n",
       "      <td>1.0000</td>\n",
       "      <td>0.2182</td>\n",
       "      <td>0.6619</td>\n",
       "      <td>0.3583</td>\n",
       "    </tr>\n",
       "    <tr>\n",
       "      <td>41</td>\n",
       "      <td>0.84</td>\n",
       "      <td>3024</td>\n",
       "      <td>1876</td>\n",
       "      <td>0</td>\n",
       "      <td>429</td>\n",
       "      <td>1.0000</td>\n",
       "      <td>0.1861</td>\n",
       "      <td>0.6480</td>\n",
       "      <td>0.3138</td>\n",
       "    </tr>\n",
       "    <tr>\n",
       "      <td>42</td>\n",
       "      <td>0.86</td>\n",
       "      <td>3024</td>\n",
       "      <td>1967</td>\n",
       "      <td>0</td>\n",
       "      <td>338</td>\n",
       "      <td>1.0000</td>\n",
       "      <td>0.1466</td>\n",
       "      <td>0.6309</td>\n",
       "      <td>0.2558</td>\n",
       "    </tr>\n",
       "    <tr>\n",
       "      <td>43</td>\n",
       "      <td>0.88</td>\n",
       "      <td>3024</td>\n",
       "      <td>2071</td>\n",
       "      <td>0</td>\n",
       "      <td>234</td>\n",
       "      <td>1.0000</td>\n",
       "      <td>0.1015</td>\n",
       "      <td>0.6114</td>\n",
       "      <td>0.1843</td>\n",
       "    </tr>\n",
       "    <tr>\n",
       "      <td>44</td>\n",
       "      <td>0.90</td>\n",
       "      <td>3024</td>\n",
       "      <td>2171</td>\n",
       "      <td>0</td>\n",
       "      <td>134</td>\n",
       "      <td>1.0000</td>\n",
       "      <td>0.0581</td>\n",
       "      <td>0.5926</td>\n",
       "      <td>0.1099</td>\n",
       "    </tr>\n",
       "    <tr>\n",
       "      <td>45</td>\n",
       "      <td>0.92</td>\n",
       "      <td>3024</td>\n",
       "      <td>2227</td>\n",
       "      <td>0</td>\n",
       "      <td>78</td>\n",
       "      <td>1.0000</td>\n",
       "      <td>0.0338</td>\n",
       "      <td>0.5821</td>\n",
       "      <td>0.0655</td>\n",
       "    </tr>\n",
       "    <tr>\n",
       "      <td>46</td>\n",
       "      <td>0.94</td>\n",
       "      <td>3024</td>\n",
       "      <td>2250</td>\n",
       "      <td>0</td>\n",
       "      <td>55</td>\n",
       "      <td>1.0000</td>\n",
       "      <td>0.0239</td>\n",
       "      <td>0.5778</td>\n",
       "      <td>0.0466</td>\n",
       "    </tr>\n",
       "    <tr>\n",
       "      <td>47</td>\n",
       "      <td>0.96</td>\n",
       "      <td>3024</td>\n",
       "      <td>2298</td>\n",
       "      <td>0</td>\n",
       "      <td>7</td>\n",
       "      <td>1.0000</td>\n",
       "      <td>0.0030</td>\n",
       "      <td>0.5688</td>\n",
       "      <td>0.0061</td>\n",
       "    </tr>\n",
       "    <tr>\n",
       "      <td>48</td>\n",
       "      <td>0.98</td>\n",
       "      <td>3024</td>\n",
       "      <td>2305</td>\n",
       "      <td>0</td>\n",
       "      <td>0</td>\n",
       "      <td>0.0000</td>\n",
       "      <td>0.0000</td>\n",
       "      <td>0.5675</td>\n",
       "      <td>0.0000</td>\n",
       "    </tr>\n",
       "    <tr>\n",
       "      <td>49</td>\n",
       "      <td>1.00</td>\n",
       "      <td>3024</td>\n",
       "      <td>2305</td>\n",
       "      <td>0</td>\n",
       "      <td>0</td>\n",
       "      <td>0.0000</td>\n",
       "      <td>0.0000</td>\n",
       "      <td>0.5675</td>\n",
       "      <td>0.0000</td>\n",
       "    </tr>\n",
       "  </tbody>\n",
       "</table>\n",
       "</div>"
      ],
      "text/plain": [
       "    threshold    TN    FN    FP    TP  precision  recall  accuracy  f1_score\n",
       "0        0.02     0     0  3024  2305     0.4325  1.0000    0.4325    0.6039\n",
       "1        0.04     1     0  3023  2305     0.4326  1.0000    0.4327    0.6040\n",
       "2        0.06     2     0  3022  2305     0.4327  1.0000    0.4329    0.6040\n",
       "3        0.08    22     0  3002  2305     0.4343  1.0000    0.4367    0.6056\n",
       "4        0.10    67     0  2957  2305     0.4380  1.0000    0.4451    0.6092\n",
       "5        0.12   156     1  2868  2304     0.4455  0.9996    0.4616    0.6163\n",
       "6        0.14   256     2  2768  2303     0.4542  0.9991    0.4802    0.6245\n",
       "7        0.16   424     7  2600  2298     0.4692  0.9970    0.5108    0.6381\n",
       "8        0.18   635    11  2389  2294     0.4899  0.9952    0.5496    0.6566\n",
       "9        0.20   859    20  2165  2285     0.5135  0.9913    0.5900    0.6765\n",
       "10       0.22  1108    24  1916  2281     0.5435  0.9896    0.6360    0.7016\n",
       "11       0.24  1341    40  1683  2265     0.5737  0.9826    0.6767    0.7245\n",
       "12       0.26  1605    47  1419  2258     0.6141  0.9796    0.7249    0.7549\n",
       "13       0.28  1837    61  1187  2244     0.6540  0.9735    0.7658    0.7824\n",
       "14       0.30  2049    77   975  2228     0.6956  0.9666    0.8026    0.8090\n",
       "15       0.32  2222    93   802  2212     0.7339  0.9597    0.8321    0.8317\n",
       "16       0.34  2362   121   662  2184     0.7674  0.9475    0.8531    0.8480\n",
       "17       0.36  2471   162   553  2143     0.7949  0.9297    0.8658    0.8570\n",
       "18       0.38  2567   195   457  2110     0.8220  0.9154    0.8777    0.8662\n",
       "19       0.40  2643   232   381  2073     0.8447  0.8993    0.8850    0.8712\n",
       "20       0.42  2709   284   315  2021     0.8652  0.8768    0.8876    0.8709\n",
       "21       0.44  2764   341   260  1964     0.8831  0.8521    0.8872    0.8673\n",
       "22       0.46  2815   409   209  1896     0.9007  0.8226    0.8840    0.8599\n",
       "23       0.48  2867   468   157  1837     0.9213  0.7970    0.8827    0.8546\n",
       "24       0.50  2891   540   133  1765     0.9299  0.7657    0.8737    0.8399\n",
       "25       0.52  2919   612   105  1693     0.9416  0.7345    0.8655    0.8252\n",
       "26       0.54  2940   672    84  1633     0.9511  0.7085    0.8581    0.8120\n",
       "27       0.56  2959   745    65  1560     0.9600  0.6768    0.8480    0.7939\n",
       "28       0.58  2975   834    49  1471     0.9678  0.6382    0.8343    0.7692\n",
       "29       0.60  2984   902    40  1403     0.9723  0.6087    0.8232    0.7487\n",
       "30       0.62  2994   988    30  1317     0.9777  0.5714    0.8090    0.7212\n",
       "31       0.64  3004  1072    20  1233     0.9840  0.5349    0.7951    0.6931\n",
       "32       0.66  3008  1155    16  1150     0.9863  0.4989    0.7803    0.6626\n",
       "33       0.68  3009  1250    15  1055     0.9860  0.4577    0.7626    0.6252\n",
       "34       0.70  3014  1334    10   971     0.9898  0.4213    0.7478    0.5910\n",
       "35       0.72  3020  1430     4   875     0.9954  0.3796    0.7309    0.5496\n",
       "36       0.74  3020  1501     4   804     0.9950  0.3488    0.7176    0.5165\n",
       "37       0.76  3022  1586     2   719     0.9972  0.3119    0.7020    0.4752\n",
       "38       0.78  3023  1671     1   634     0.9984  0.2751    0.6862    0.4313\n",
       "39       0.80  3023  1748     1   557     0.9982  0.2416    0.6718    0.3891\n",
       "40       0.82  3024  1802     0   503     1.0000  0.2182    0.6619    0.3583\n",
       "41       0.84  3024  1876     0   429     1.0000  0.1861    0.6480    0.3138\n",
       "42       0.86  3024  1967     0   338     1.0000  0.1466    0.6309    0.2558\n",
       "43       0.88  3024  2071     0   234     1.0000  0.1015    0.6114    0.1843\n",
       "44       0.90  3024  2171     0   134     1.0000  0.0581    0.5926    0.1099\n",
       "45       0.92  3024  2227     0    78     1.0000  0.0338    0.5821    0.0655\n",
       "46       0.94  3024  2250     0    55     1.0000  0.0239    0.5778    0.0466\n",
       "47       0.96  3024  2298     0     7     1.0000  0.0030    0.5688    0.0061\n",
       "48       0.98  3024  2305     0     0     0.0000  0.0000    0.5675    0.0000\n",
       "49       1.00  3024  2305     0     0     0.0000  0.0000    0.5675    0.0000"
      ]
     },
     "execution_count": 28,
     "metadata": {},
     "output_type": "execute_result"
    }
   ],
   "source": [
    "df_results"
   ]
  },
  {
   "cell_type": "code",
   "execution_count": 29,
   "metadata": {},
   "outputs": [
    {
     "data": {
      "text/plain": [
       "Text(0.5, 1.0, 'Precision and Recall')"
      ]
     },
     "execution_count": 29,
     "metadata": {},
     "output_type": "execute_result"
    },
    {
     "data": {
      "image/png": "[encoded data removed]",
      "text/plain": [
       "<Figure size 576x432 with 1 Axes>"
      ]
     },
     "metadata": {
      "needs_background": "light"
     },
     "output_type": "display_data"
    }
   ],
   "source": [
    "# Precison-Recall-Threshold Curve\n",
    "\n",
    "k = 2\n",
    "fig = plt.figure(figsize = (k*4,k*3))\n",
    "ax1 = fig.add_subplot(111)\n",
    "ax1.scatter(df_results['threshold'], df_results['precision'], color = 'b', s = 7)\n",
    "ax1.scatter(df_results['threshold'], df_results['recall']   , color = 'g', s = 7)\n",
    "ax1.set_xlabel('Threshold', fontsize = 12)\n",
    "ax1.set_ylabel('Proportion', fontsize = 12)\n",
    "plt.title(\"Precision and Recall\", fontsize = 15)"
   ]
  },
  {
   "cell_type": "code",
   "execution_count": 30,
   "metadata": {
    "scrolled": false
   },
   "outputs": [
    {
     "data": {
      "text/plain": [
       "[(0.0, 1.0), Text(0, 0.5, 'F1 Score'), (0.0, 1.02), Text(0.5, 0, 'Threshold')]"
      ]
     },
     "execution_count": 30,
     "metadata": {},
     "output_type": "execute_result"
    },
    {
     "data": {
      "image/png": "[encoded data removed]",
      "text/plain": [
       "<Figure size 576x432 with 1 Axes>"
      ]
     },
     "metadata": {
      "needs_background": "light"
     },
     "output_type": "display_data"
    }
   ],
   "source": [
    "# F1-Score Curve\n",
    "\n",
    "grap = df_results[df_results[\"threshold\"] > 0.0].plot(kind=\"scatter\", \n",
    "                                                         x=\"threshold\", \n",
    "                                                         y=\"f1_score\", \n",
    "                                                         grid=False, \n",
    "                                                         legend=True, \n",
    "                                                         title=\"F1-Score\",\n",
    "                                                         figsize=[8,6])\n",
    "grap.set(xlabel=\"Threshold\", \n",
    "            ylabel=\"F1 Score\", \n",
    "            xlim=(0.0,1.02), \n",
    "            ylim=(0.0,1.0))\n"
   ]
  },
  {
   "cell_type": "markdown",
   "metadata": {},
   "source": [
    "With a threshold value of 0,4, we will maximaze F1-Score value at 0,87. So with this threshold we will classify all tweets as disasters or no-diasters.<br>\n",
    "Next steps, we will apply a threshold for predictions of training dataset and test dataset."
   ]
  },
  {
   "cell_type": "code",
   "execution_count": 31,
   "metadata": {},
   "outputs": [],
   "source": [
    "# Create y_predict using a new threshold\n",
    "\n",
    "y_predict_train2 = np.where(y_proba_train[:,1] >= 0.4, 1, 0)"
   ]
  },
  {
   "cell_type": "code",
   "execution_count": 32,
   "metadata": {},
   "outputs": [
    {
     "data": {
      "text/plain": [
       "array([1, 1, 1, ..., 0, 1, 1])"
      ]
     },
     "execution_count": 32,
     "metadata": {},
     "output_type": "execute_result"
    }
   ],
   "source": [
    "# Overview values of y_predict_train2\n",
    "\n",
    "y_predict_train2"
   ]
  },
  {
   "cell_type": "code",
   "execution_count": 33,
   "metadata": {},
   "outputs": [
    {
     "name": "stdout",
     "output_type": "stream",
     "text": [
      "Classification Report\n",
      "              precision    recall  f1-score   support\n",
      "\n",
      "           0       0.84      0.96      0.90      3024\n",
      "           1       0.93      0.77      0.84      2305\n",
      "\n",
      "    accuracy                           0.87      5329\n",
      "   macro avg       0.89      0.86      0.87      5329\n",
      "weighted avg       0.88      0.87      0.87      5329\n",
      "\n"
     ]
    },
    {
     "data": {
      "image/png": "[encoded data removed]",
      "text/plain": [
       "<Figure size 576x432 with 2 Axes>"
      ]
     },
     "metadata": {
      "needs_background": "light"
     },
     "output_type": "display_data"
    }
   ],
   "source": [
    "# Results before apply a new threshold\n",
    "\n",
    "plot_report_cmatrix(y_train, \n",
    "                    y_predict_train, \n",
    "                    labels = [0, 1], \n",
    "                    classes = ['disaster = 0','disaster = 1'], \n",
    "                    normalize = False, \n",
    "                    title = 'Confusion Matrix')"
   ]
  },
  {
   "cell_type": "code",
   "execution_count": 34,
   "metadata": {},
   "outputs": [
    {
     "name": "stdout",
     "output_type": "stream",
     "text": [
      "Classification Report\n",
      "              precision    recall  f1-score   support\n",
      "\n",
      "           0       0.92      0.87      0.90      3024\n",
      "           1       0.85      0.90      0.87      2305\n",
      "\n",
      "    accuracy                           0.88      5329\n",
      "   macro avg       0.88      0.89      0.88      5329\n",
      "weighted avg       0.89      0.88      0.89      5329\n",
      "\n"
     ]
    },
    {
     "data": {
      "image/png": "[encoded data removed]",
      "text/plain": [
       "<Figure size 576x432 with 2 Axes>"
      ]
     },
     "metadata": {
      "needs_background": "light"
     },
     "output_type": "display_data"
    }
   ],
   "source": [
    "# Results after apply a new threshold\n",
    "\n",
    "plot_report_cmatrix(y_train, \n",
    "                    y_predict_train2, \n",
    "                    labels = [0, 1], \n",
    "                    classes = ['disaster = 0','disaster = 1'], \n",
    "                    normalize = False, \n",
    "                    title = 'Confusion Matrix')"
   ]
  },
  {
   "cell_type": "markdown",
   "metadata": {},
   "source": [
    "<br> Now applying the new threshold in test dataset."
   ]
  },
  {
   "cell_type": "code",
   "execution_count": 35,
   "metadata": {},
   "outputs": [],
   "source": [
    "# Create y_predict using a new threshold\n",
    "\n",
    "y_predict_val2 = np.where(y_proba_val[:,1] >= 0.4, 1, 0)"
   ]
  },
  {
   "cell_type": "code",
   "execution_count": 36,
   "metadata": {},
   "outputs": [
    {
     "data": {
      "text/plain": [
       "array([0, 0, 1, ..., 1, 1, 1])"
      ]
     },
     "execution_count": 36,
     "metadata": {},
     "output_type": "execute_result"
    }
   ],
   "source": [
    "# Overview values of y_predict_val2\n",
    "\n",
    "y_predict_val2"
   ]
  },
  {
   "cell_type": "code",
   "execution_count": 37,
   "metadata": {},
   "outputs": [
    {
     "name": "stdout",
     "output_type": "stream",
     "text": [
      "Classification Report\n",
      "              precision    recall  f1-score   support\n",
      "\n",
      "           0       0.79      0.89      0.84      1318\n",
      "           1       0.82      0.68      0.75       966\n",
      "\n",
      "    accuracy                           0.80      2284\n",
      "   macro avg       0.81      0.79      0.79      2284\n",
      "weighted avg       0.81      0.80      0.80      2284\n",
      "\n"
     ]
    },
    {
     "data": {
      "image/png": "[encoded data removed]",
      "text/plain": [
       "<Figure size 576x432 with 2 Axes>"
      ]
     },
     "metadata": {
      "needs_background": "light"
     },
     "output_type": "display_data"
    }
   ],
   "source": [
    "# Results before apply a new threshold\n",
    "\n",
    "plot_report_cmatrix(y_val, \n",
    "                    y_predict_val, \n",
    "                    labels = [0, 1], \n",
    "                    classes = ['disaster = 0','disaster = 1'], \n",
    "                    normalize = False, \n",
    "                    title = 'Confusion Matrix')"
   ]
  },
  {
   "cell_type": "code",
   "execution_count": 38,
   "metadata": {},
   "outputs": [
    {
     "name": "stdout",
     "output_type": "stream",
     "text": [
      "Classification Report\n",
      "              precision    recall  f1-score   support\n",
      "\n",
      "           0       0.84      0.77      0.80      1318\n",
      "           1       0.72      0.80      0.75       966\n",
      "\n",
      "    accuracy                           0.78      2284\n",
      "   macro avg       0.78      0.78      0.78      2284\n",
      "weighted avg       0.79      0.78      0.78      2284\n",
      "\n"
     ]
    },
    {
     "data": {
      "image/png": "[encoded data removed]",
      "text/plain": [
       "<Figure size 576x432 with 2 Axes>"
      ]
     },
     "metadata": {
      "needs_background": "light"
     },
     "output_type": "display_data"
    }
   ],
   "source": [
    "# Results after apply a new threshold\n",
    "\n",
    "plot_report_cmatrix(y_val, \n",
    "                    y_predict_val2, \n",
    "                    labels = [0, 1], \n",
    "                    classes = ['disaster = 0','disaster = 1'], \n",
    "                    normalize = False, \n",
    "                    title = 'Confusion Matrix')"
   ]
  }
 ],
 "metadata": {
  "kernelspec": {
   "display_name": "Python 3",
   "language": "python",
   "name": "python3"
  },
  "language_info": {
   "codemirror_mode": {
    "name": "ipython",
    "version": 3
   },
   "file_extension": ".py",
   "mimetype": "text/x-python",
   "name": "python",
   "nbconvert_exporter": "python",
   "pygments_lexer": "ipython3",
   "version": "3.7.4"
  }
 },
 "nbformat": 4,
 "nbformat_minor": 2
}
